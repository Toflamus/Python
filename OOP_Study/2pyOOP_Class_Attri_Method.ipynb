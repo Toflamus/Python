{
 "cells": [
  {
   "cell_type": "markdown",
   "metadata": {},
   "source": [
    "### Supplementary Information"
   ]
  },
  {
   "cell_type": "markdown",
   "metadata": {},
   "source": [
    "#### Write the Description with `help()`\n",
    "def run(self, distancce, step):  \n",
    "    '''  \n",
    "    The description of the function  \n",
    "    :param distance: the meaning, the type, default value  \n",
    "    :param step:  \n",
    "    :return: type, class, default value  \n",
    "    '''"
   ]
  },
  {
   "cell_type": "code",
   "execution_count": 10,
   "metadata": {},
   "outputs": [
    {
     "name": "stdout",
     "output_type": "stream",
     "text": [
      "Help on function run in module __main__:\n",
      "\n",
      "run(self, distance, step)\n",
      "    The description of the function:\n",
      "    Attributes:\n",
      "        :param distance: the meaning, the type, default value  \n",
      "        :param step:  \n",
      "    Methods:\n",
      "    :return type, class, default value\n",
      "\n"
     ]
    }
   ],
   "source": [
    "def run(self, distance, step):\n",
    "    '''  \n",
    "    The description of the function:\n",
    "    Attributes:\n",
    "        :param distance: the meaning, the type, default value  \n",
    "        :param step:  \n",
    "    Methods:\n",
    "    :return type, class, default value  \n",
    "    '''\n",
    "    pass\n",
    "\n",
    "help(run)\n",
    "# This function will generate a description text of the function"
   ]
  },
  {
   "cell_type": "markdown",
   "metadata": {},
   "source": [
    "#### Create a project file with module `pydoc` "
   ]
  },
  {
   "cell_type": "markdown",
   "metadata": {},
   "source": [
    "In the finish point of the project, you need to send a project file to your customer. In the file you will need to include the definitions of functions and descriptions of the functions, the specific realization will not be included."
   ]
  },
  {
   "cell_type": "code",
   "execution_count": 11,
   "metadata": {},
   "outputs": [
    {
     "name": "stdout",
     "output_type": "stream",
     "text": [
      "Help on class Person in module __main__:\n",
      "\n",
      "class Person(builtins.object)\n",
      " |  This is a description of the Person class.\n",
      " |  Attributes:\n",
      " |      :name: The name of the......\n",
      " |  Methods:\n",
      " |      :run():\n",
      " |  \n",
      " |  Methods defined here:\n",
      " |  \n",
      " |  run(self, kcal)\n",
      " |      This is a description of the function \n",
      " |      Attributes:\n",
      " |  \n",
      " |  ----------------------------------------------------------------------\n",
      " |  Data descriptors defined here:\n",
      " |  \n",
      " |  __dict__\n",
      " |      dictionary for instance variables (if defined)\n",
      " |  \n",
      " |  __weakref__\n",
      " |      list of weak references to the object (if defined)\n",
      " |  \n",
      " |  ----------------------------------------------------------------------\n",
      " |  Data and other attributes defined here:\n",
      " |  \n",
      " |  name = 1\n",
      "\n"
     ]
    }
   ],
   "source": [
    "class Person:\n",
    "    '''\n",
    "    This is a description of the Person class.\n",
    "    Attributes:\n",
    "        :name: The name of the......\n",
    "    Methods:\n",
    "        :run():   \n",
    "    '''\n",
    "\n",
    "    name = 1\n",
    "    def run(self, kcal):\n",
    "        '''\n",
    "        This is a description of the function \n",
    "        Attributes:\n",
    "\n",
    "        '''\n",
    "        pass\n",
    "\n",
    "help(Person)"
   ]
  },
  {
   "cell_type": "markdown",
   "metadata": {},
   "source": [
    "***Create python document with pydoc***\n",
    "Steps: in `cmd`\n",
    "1. python3 -m pydoc Check the description of the document\n",
    "2. python3 -m pydoc -p 6666 /-b  Open local server and read the documentation\n",
    "3. python3 -m pydoc -w `name of your module` Generate the description o your module"
   ]
  },
  {
   "cell_type": "markdown",
   "metadata": {},
   "source": [
    "You can apply the searching mechanism in different stages of heiracy to do something special."
   ]
  },
  {
   "cell_type": "markdown",
   "metadata": {},
   "source": []
  },
  {
   "cell_type": "markdown",
   "metadata": {},
   "source": [
    "### Attributes: private, read-only, inner "
   ]
  },
  {
   "cell_type": "markdown",
   "metadata": {},
   "source": [
    "#### Public, Protected, Private attributes"
   ]
  },
  {
   "cell_type": "markdown",
   "metadata": {},
   "source": [
    "Can only be accessed in the class, you cannot change the attribute outside the class  \n",
    "Actually, in python there is no private attribute, everything is public, we can only realise the functionality by adding `_`.  This is not really private, because you can access the variable by some special methods.\n",
    "\n",
    "* `_` is protected  1,2,3\n",
    "* `__` is private  1\n",
    "1. In class\n",
    "2. In subclasses\n",
    "3. Other parts in the same module\n",
    "4. Access accross modules(or other files)\n",
    "\n"
   ]
  },
  {
   "cell_type": "code",
   "execution_count": null,
   "metadata": {},
   "outputs": [
    {
     "name": "stdout",
     "output_type": "stream",
     "text": [
      "In class, public variable  1\n",
      "In class, protected variable  2\n",
      "In class, private variable  3\n",
      "In Subclass, public variable  1\n",
      "In Subclass, protected variable  2\n",
      "Other spaces in the same module,public\n",
      "1\n",
      "1\n",
      "Other spaces in the same module,protect\n",
      "2\n",
      "2\n",
      "Other spaces in the same module,private\n"
     ]
    },
    {
     "ename": "AttributeError",
     "evalue": "type object 'Animal' has no attribute '__private_varible'",
     "output_type": "error",
     "traceback": [
      "\u001b[1;31m---------------------------------------------------------------------------\u001b[0m\n",
      "\u001b[1;31mAttributeError\u001b[0m                            Traceback (most recent call last)\n",
      "Input \u001b[1;32mIn [34]\u001b[0m, in \u001b[0;36m<cell line: 48>\u001b[1;34m()\u001b[0m\n",
      "\u001b[0;32m     45\u001b[0m \u001b[38;5;28mprint\u001b[39m(Dog\u001b[38;5;241m.\u001b[39m_protected_varible)\n",
      "\u001b[0;32m     47\u001b[0m \u001b[38;5;28mprint\u001b[39m(\u001b[38;5;124m'\u001b[39m\u001b[38;5;124mOther spaces in the same module,private\u001b[39m\u001b[38;5;124m'\u001b[39m)\n",
      "\u001b[1;32m---> 48\u001b[0m \u001b[38;5;28mprint\u001b[39m(\u001b[43mAnimal\u001b[49m\u001b[38;5;241;43m.\u001b[39;49m\u001b[43m__private_varible\u001b[49m)\n",
      "\u001b[0;32m     49\u001b[0m \u001b[38;5;28mprint\u001b[39m(Dog\u001b[38;5;241m.\u001b[39m__private_varible)\n",
      "\n",
      "\u001b[1;31mAttributeError\u001b[0m: type object 'Animal' has no attribute '__private_varible'"
     ]
    }
   ],
   "source": [
    "class Animal:\n",
    "    # In class\n",
    "    public_varible = 1\n",
    "    _protected_varible = 2\n",
    "    __private_varible = 3\n",
    "    def acc_public(self):\n",
    "        print('In class, public variable ', self.public_varible)\n",
    "    def acc_protected(self):\n",
    "        print('In class, protected variable ', self._protected_varible)\n",
    "    def acc_private(self):\n",
    "        print('In class, private variable ', self.__private_varible)    \n",
    "    pass\n",
    "\n",
    "class Dog(Animal):\n",
    "    # In subclass\n",
    "    def sub_acc_public(self):\n",
    "        print('In Subclass, public variable ', self.public_varible)\n",
    "    def sub_acc_protected(self):\n",
    "        print('In Subclass, protected variable ', self._protected_varible) \n",
    "    def sub_acc_private(self):\n",
    "        print('In Subclass, private variable ', self.__private_varible) \n",
    "    pass\n",
    "\n",
    "# Other parts in the same module\n",
    "\n",
    "a = Animal()\n",
    "d = Dog()\n",
    "# In class public variable\n",
    "a.acc_public()\n",
    "a.acc_protected()\n",
    "a.acc_private()\n",
    "\n",
    "# 'In Subclass, public variable '\n",
    "d.sub_acc_public()\n",
    "d.sub_acc_protected()\n",
    "    # Cannot\n",
    "# d.sub_acc_private()\n",
    "\n",
    "# Other spaces\n",
    "print('Other spaces in the same module,public')\n",
    "print(Animal.public_varible)\n",
    "print(Dog.public_varible)\n",
    "\n",
    "print('Other spaces in the same module,protect')\n",
    "print(Animal._protected_varible)\n",
    "print(Dog._protected_varible)\n",
    "\n",
    "print('Other spaces in the same module,private')\n",
    "# Both cannot\n",
    "# print(Animal.__private_varible)\n",
    "# print(Dog.__private_varible)\n",
    "\n",
    "\n",
    "# Other modules cannot access protected and private variables."
   ]
  },
  {
   "cell_type": "markdown",
   "metadata": {},
   "source": [
    "#### Name reforme mechanism in python"
   ]
  },
  {
   "cell_type": "markdown",
   "metadata": {},
   "source": [
    "The interpreter will change the varible name of `__variable` to `_[class name]_variable`"
   ]
  },
  {
   "cell_type": "code",
   "execution_count": null,
   "metadata": {},
   "outputs": [
    {
     "name": "stdout",
     "output_type": "stream",
     "text": [
      "{'__module__': '__main__', 'public_varible': 1, '_protected_varible': 2, '_Animal__private_varible': 3, 'acc_public': <function Animal.acc_public at 0x000002154E846170>, 'acc_protected': <function Animal.acc_protected at 0x000002154E847A30>, 'acc_private': <function Animal.acc_private at 0x000002154E845F30>, '__dict__': <attribute '__dict__' of 'Animal' objects>, '__weakref__': <attribute '__weakref__' of 'Animal' objects>, '__doc__': None}\n",
      "{'__module__': '__main__', 'sub_acc_public': <function Dog.sub_acc_public at 0x000002154E845A20>, 'sub_acc_protected': <function Dog.sub_acc_protected at 0x000002154E8464D0>, 'sub_acc_private': <function Dog.sub_acc_private at 0x000002154E846F80>, '__doc__': None}\n",
      "3\n"
     ]
    }
   ],
   "source": [
    "print(Animal.__dict__)\n",
    "print(Dog.__dict__)\n",
    "print(Animal._Animal__private_varible)"
   ]
  },
  {
   "cell_type": "markdown",
   "metadata": {},
   "source": [
    "#### Application of different attributes\n",
    "\n",
    "* Data protect\n",
    "* Data filter\n"
   ]
  },
  {
   "cell_type": "markdown",
   "metadata": {},
   "source": [
    "当我每个instance 都有同一个属性但是具有不同的值，我需要对不同的实例初始化不同的值.  \n",
    "`__init__()` When we created an instance, it will be called automatically. "
   ]
  },
  {
   "cell_type": "markdown",
   "metadata": {},
   "source": [
    "***Data protection***  \n",
    "  * Can only be created inside the class\n",
    "  * We can use a method to change the private variable"
   ]
  },
  {
   "cell_type": "code",
   "execution_count": null,
   "metadata": {},
   "outputs": [
    {
     "name": "stdout",
     "output_type": "stream",
     "text": [
      "{'_Person__age': 18, '__age': -10}\n"
     ]
    }
   ],
   "source": [
    "class Person:\n",
    "    def __init__(self):\n",
    "        self.__age = 18\n",
    "    def setAge(self, value):\n",
    "        # To make sure the value is resonable\n",
    "        if isinstance(value, int) and 0< value < 200:\n",
    "            self.__age = value\n",
    "        else:\n",
    "            print('There is a problem with your value')\n",
    "        self.__age = value\n",
    "    def getAge(self):\n",
    "        return self.__age\n",
    "    pass\n",
    "\n",
    "p1 = Person()\n",
    "p1.__age = -10\n",
    "print(p1.__dict__)\n",
    "\n",
    "p1.setAge(20)"
   ]
  },
  {
   "cell_type": "markdown",
   "metadata": {},
   "source": [
    "***Other formats***  \n",
    "* `__xx__` This is a build-in format\n",
    "* `xx_` This is a format to distinguish build-in format and your variables"
   ]
  },
  {
   "cell_type": "markdown",
   "metadata": {},
   "source": [
    "#### Read only"
   ]
  },
  {
   "cell_type": "markdown",
   "metadata": {},
   "source": [
    "* It is always connected with a hardware, such as a sensor which can detect something. It is resonable to not change the value.  \n",
    "* You cannot call a variable if the variable is a private one.  \n",
    "* The read only variable can be realised by a method.  \n",
    "  * `getAge(): return self.__age`\n",
    "  * `@property` Relate the method of operating attributes to an attribute\n",
    "    * It is a class\n"
   ]
  },
  {
   "cell_type": "code",
   "execution_count": null,
   "metadata": {},
   "outputs": [
    {
     "name": "stdout",
     "output_type": "stream",
     "text": [
      "18\n"
     ]
    }
   ],
   "source": [
    "class Person:\n",
    "    def __init__(self):\n",
    "        self.__age = 18\n",
    "    @property # you can call this function just like a attribute\n",
    "    def getAge(self):\n",
    "        return self.__age\n",
    "    pass\n",
    "\n",
    "\n",
    "p1 = Person()\n",
    "print(p1.getAge)\n",
    "property"
   ]
  },
  {
   "cell_type": "markdown",
   "metadata": {},
   "source": [
    "##### `Property`"
   ]
  },
  {
   "cell_type": "markdown",
   "metadata": {},
   "source": [
    "***Supplementary  information***  \n",
    "* Classic class: do not inherit from `object`\n",
    "* New class: inherit from `object`\n",
    "python3 will default to inherit from `object`, while python2 does not\n"
   ]
  },
  {
   "cell_type": "code",
   "execution_count": null,
   "metadata": {},
   "outputs": [
    {
     "name": "stdout",
     "output_type": "stream",
     "text": [
      "<class 'object'>\n"
     ]
    }
   ],
   "source": [
    "# Check the base class\n",
    "class Person: # class Person(object)\n",
    "    pass\n",
    "print(Person.__base__)"
   ]
  },
  {
   "cell_type": "markdown",
   "metadata": {},
   "source": [
    "***`Property` in new class & classic class***\n"
   ]
  },
  {
   "cell_type": "markdown",
   "metadata": {},
   "source": [
    "In new class"
   ]
  },
  {
   "cell_type": "code",
   "execution_count": null,
   "metadata": {},
   "outputs": [
    {
     "name": "stdout",
     "output_type": "stream",
     "text": [
      "18\n",
      "{'_Person__age': 98}\n",
      "18\n",
      "-set-\n",
      "{'_Person__age': 98}\n"
     ]
    }
   ],
   "source": [
    "# The first way to use\n",
    "class Person(object):\n",
    "    def __init__(self):\n",
    "        self.__age = 18\n",
    "    def get_age(self):\n",
    "        return self.__age\n",
    "    def set_age(self, value):\n",
    "        self.__age = value\n",
    "\n",
    "    age = property(get_age, set_age)\n",
    "p = Person()\n",
    "print(p.age)\n",
    "p.age = 98\n",
    "print(p.__dict__)\n",
    "\n",
    "# The second way\n",
    "class Person(object):\n",
    "    def __init__(self):\n",
    "        self.__age = 18\n",
    "    @property\n",
    "    def age(self):\n",
    "        return self.__age\n",
    "    @age.setter\n",
    "    def age(self, value):\n",
    "        print(\"-set-\")\n",
    "        self.__age = value\n",
    "\n",
    "p = Person()\n",
    "print(p.age)\n",
    "p.age = 98\n",
    "print(p.__dict__)"
   ]
  },
  {
   "cell_type": "markdown",
   "metadata": {},
   "source": [
    "In classic class: omited need Python2\n"
   ]
  },
  {
   "cell_type": "markdown",
   "metadata": {},
   "source": [
    "***Read only method 2***"
   ]
  },
  {
   "cell_type": "code",
   "execution_count": null,
   "metadata": {},
   "outputs": [
    {
     "name": "stdout",
     "output_type": "stream",
     "text": [
      "age 18\n",
      "This attribute is only readable, no change permitted\n",
      "{}\n",
      "name lol\n",
      "{'name': 'lol'}\n"
     ]
    }
   ],
   "source": [
    "from typing import Any\n",
    "\n",
    "\n",
    "class Person:\n",
    "    # We need a imbeded method to \n",
    "    # The method will be called,\n",
    "    # when we use <Instance name>.<attribute> to create or change the value\n",
    "    # The attribute will only be changed inside the method\n",
    "    def __setattr__(self, __name: str, __value: Any) -> None:\n",
    "        print(__name, __value)\n",
    "        # 1. 判断是不是可读属性\n",
    "        # if __name == 'age':# 这样我们没办法创建只读属性只能访问\n",
    "        if __name == 'age' and 'age' in self.__dict__.keys():    \n",
    "            print('This attribute is only readable, no change permitted')\n",
    "        # 2. 如果不是只读属性，就加入或者修改\n",
    "        else:\n",
    "            # 这里会形成一个死循环，因为每创建一个attribute就会调用这个代码，if not readable，GG\n",
    "            # self.__name = __value #这样写就是一个死循环，gg了\n",
    "            # 我们需要使用直接给字典添加键值对的方式\n",
    "            self.__dict__[__name] = __value\n",
    "    pass\n",
    "p1 = Person()\n",
    "p1.age = 18\n",
    "# No attributes are added\n",
    "print(p1.__dict__)\n",
    "\n",
    "p1.name = 'lol'\n",
    "print(p1.__dict__)\n",
    "\n"
   ]
  },
  {
   "cell_type": "markdown",
   "metadata": {},
   "source": [
    "#### Common imbeded attributes"
   ]
  },
  {
   "cell_type": "markdown",
   "metadata": {},
   "source": [
    "***Class attributes***  \n",
    "* `__dict__`: key-value dictionary of a class\n",
    "* `__bases__`: The tuple composed of all the parents class\n",
    "*  `__doc__`: The string of the document of the class\n",
    "*  `__name__`: Name of the class\n",
    "*  `__module__`: The module that the class located  \n",
    "***Instance attributes***  \n",
    "* `__dict__`: key-value dictionary of a class\n",
    "* `__class__`: name of the belonged class"
   ]
  },
  {
   "cell_type": "code",
   "execution_count": null,
   "metadata": {},
   "outputs": [
    {
     "name": "stdout",
     "output_type": "stream",
     "text": [
      "<class 'object'>\n",
      "This is a class describes a person\n",
      "__main__\n",
      "<class '__main__.Person'>\n",
      "{'name': 'lol'}\n"
     ]
    }
   ],
   "source": [
    "class Person:\n",
    "    '''This is a class describes a person'''\n",
    "    age = 19\n",
    "    def __init__(self) -> None:\n",
    "        '''This is a imbeded function'''\n",
    "        self.name = 'lol'\n",
    "    def run(self):\n",
    "        '''Running of a man'''\n",
    "        print('run')\n",
    "\n",
    "print(Person.__base__)\n",
    "print(Person.__doc__)# Only the description of the class is printed\n",
    "print(Person.__module__) \n",
    "\n",
    "p = Person()\n",
    "print(p.__class__)\n",
    "print(p.__dict__)    "
   ]
  },
  {
   "cell_type": "markdown",
   "metadata": {},
   "source": [
    "### Private & imbeded Method"
   ]
  },
  {
   "cell_type": "markdown",
   "metadata": {},
   "source": [
    "It is the same to `attributes`"
   ]
  },
  {
   "cell_type": "code",
   "execution_count": 18,
   "metadata": {},
   "outputs": [
    {
     "name": "stdout",
     "output_type": "stream",
     "text": [
      "{'__module__': '__main__', '_Person__age': 10, '_Person__run': <function Person._Person__run at 0x0000023339984430>, '__dict__': <attribute '__dict__' of 'Person' objects>, '__weakref__': <attribute '__weakref__' of 'Person' objects>, '__doc__': None}\n",
      "{}\n",
      "Be covered\n"
     ]
    }
   ],
   "source": [
    "class Person:\n",
    "    __age = 10\n",
    "\n",
    "    def __run(self):\n",
    "        print('Running')\n",
    "    def _Person__run(self):# The method will cover the previous function\n",
    "        print('Be covered')\n",
    "\n",
    "p = Person()\n",
    "print(Person.__dict__)\n",
    "print(p.__dict__)\n",
    "p._Person__run()"
   ]
  },
  {
   "cell_type": "markdown",
   "metadata": {},
   "source": [
    "***Imbeded methods***  \n",
    "* 信息格式化操作\n",
    "  * `__str__`：面向用户，获得有用信息\n",
    "  * `__repr__`: 面向开发者让开发人员看到本质\n",
    "* Callable:\n",
    "  * `__call__`\n",
    "* 索引操作: 将类当作字典进行操作\n",
    "  * ``\n",
    "  * ``\n",
    "  * ``\n",
    "\n",
    "* Slice: \n",
    "  * ``\n",
    "  * "
   ]
  },
  {
   "cell_type": "markdown",
   "metadata": {},
   "source": [
    "#### Formulation: `__str__` & `__repr__`:"
   ]
  },
  {
   "cell_type": "code",
   "execution_count": 29,
   "metadata": {},
   "outputs": [
    {
     "name": "stdout",
     "output_type": "stream",
     "text": [
      "Tom\n",
      "19\n",
      "Name:Tom Age:19\n",
      "Name:Tom Age:19 <class 'str'>\n"
     ]
    }
   ],
   "source": [
    "class Person:\n",
    "    def __init__(self, name, age) -> None:\n",
    "        self.name = name\n",
    "        self.age = age\n",
    "    def __str__(self):\n",
    "        return 'Name:{} Age:{}'.format(self.name, self.age)\n",
    "    def __repr__(self):# 获得本质信息,不是很优先\n",
    "        return 'reprxxxxxx'\n",
    "\n",
    "p1 = Person('Tom',19)\n",
    "print(p1.name)\n",
    "print(p1.age)\n",
    "# Formulated the information \n",
    "print(p1)\n",
    "# Note below and above methods have the same output but totally different processes\n",
    "s = str(p1)\n",
    "print(s,s.__class__)"
   ]
  },
  {
   "cell_type": "code",
   "execution_count": 28,
   "metadata": {},
   "outputs": [
    {
     "name": "stdout",
     "output_type": "stream",
     "text": [
      "<__main__.Person object at 0x0000023338F26CB0>\n"
     ]
    }
   ],
   "source": [
    "print(repr(p1))\n",
    "# What if we want to change the address"
   ]
  },
  {
   "cell_type": "code",
   "execution_count": 30,
   "metadata": {},
   "outputs": [
    {
     "name": "stdout",
     "output_type": "stream",
     "text": [
      "Tom\n",
      "19\n",
      "reprxxxxxx\n"
     ]
    }
   ],
   "source": [
    "class Person:\n",
    "    def __init__(self, name, age) -> None:\n",
    "        self.name = name\n",
    "        self.age = age\n",
    "    def __repr__(self):# 面向开发者：获得本质信息,不是很优先\n",
    "        return 'reprxxxxxx'\n",
    "\n",
    "p1 = Person('Tom',19)\n",
    "print(p1.name)\n",
    "print(p1.age)\n",
    "# Formulated the information \n",
    "print(p1)\n",
    "# Note below and above methods have the same output but totally different processes\n",
    "s = repr(p1)\n"
   ]
  },
  {
   "cell_type": "markdown",
   "metadata": {},
   "source": [
    "You can use `eval` to re-convert str to the object"
   ]
  },
  {
   "cell_type": "code",
   "execution_count": 32,
   "metadata": {},
   "outputs": [
    {
     "name": "stdout",
     "output_type": "stream",
     "text": [
      "2023-12-21 18:25:40.474857\n",
      "datetime.datetime(2023, 12, 21, 18, 25, 40, 474857)\n",
      "2023-12-21 18:25:40.474857\n"
     ]
    }
   ],
   "source": [
    "import datetime\n",
    "\n",
    "t = datetime.datetime.now()\n",
    "print(t)\n",
    "print(repr(t))\n",
    "temp = repr(t)\n",
    "result = eval(temp)\n",
    "print(result)\n"
   ]
  },
  {
   "cell_type": "markdown",
   "metadata": {},
   "source": [
    "#### Call `__call__`"
   ]
  },
  {
   "cell_type": "markdown",
   "metadata": {},
   "source": [
    "***Not callable -> Callable***"
   ]
  },
  {
   "cell_type": "code",
   "execution_count": 34,
   "metadata": {},
   "outputs": [
    {
     "ename": "TypeError",
     "evalue": "'Person' object is not callable",
     "output_type": "error",
     "traceback": [
      "\u001b[1;31m---------------------------------------------------------------------------\u001b[0m",
      "\u001b[1;31mTypeError\u001b[0m                                 Traceback (most recent call last)",
      "Input \u001b[1;32mIn [34]\u001b[0m, in \u001b[0;36m<cell line: 5>\u001b[1;34m()\u001b[0m\n\u001b[0;32m      2\u001b[0m     \u001b[38;5;28;01mpass\u001b[39;00m\n\u001b[0;32m      3\u001b[0m p \u001b[38;5;241m=\u001b[39m Person()\n\u001b[1;32m----> 5\u001b[0m \u001b[43mp\u001b[49m\u001b[43m(\u001b[49m\u001b[43m)\u001b[49m\n",
      "\u001b[1;31mTypeError\u001b[0m: 'Person' object is not callable"
     ]
    }
   ],
   "source": [
    "class Person:\n",
    "    pass\n",
    "p = Person()\n",
    "\n",
    "p()# This is not callable"
   ]
  },
  {
   "cell_type": "code",
   "execution_count": 37,
   "metadata": {},
   "outputs": [
    {
     "name": "stdout",
     "output_type": "stream",
     "text": [
      "xxx (123, 456) {}\n"
     ]
    }
   ],
   "source": [
    "class Person:\n",
    "    def __call__(self,*args,**kwargs):\n",
    "        print(\"xxx\", args, kwargs)\n",
    "\n",
    "p = Person()\n",
    "p(123,456)"
   ]
  },
  {
   "cell_type": "markdown",
   "metadata": {},
   "source": [
    "***`__call__` Application***"
   ]
  },
  {
   "cell_type": "code",
   "execution_count": 43,
   "metadata": {},
   "outputs": [
    {
     "name": "stdout",
     "output_type": "stream",
     "text": [
      "Created a pen, color is red\n",
      "Created a pen, color is green\n",
      "Created a pen, color is blue\n",
      "Created a pencil, color is red\n",
      "Created a pencil, color is blue\n",
      "Created a pen, color is red\n",
      "Created a pen, color is green\n",
      "Created a pen, color is blue\n",
      "Created a pencil, color is red\n",
      "Created a pencil, color is green\n",
      "Created a pencil, color is blue\n",
      "Created a Pencil, color is red\n",
      "Created a Pencil, color is green\n",
      "Created a Pen, color is blue\n"
     ]
    }
   ],
   "source": [
    "# 假设我们希望创建一些画笔，画笔有两个属性：（类型，颜色）。\n",
    "# 类型种类少，铅笔，钢笔。颜色种类多。\n",
    "\n",
    "# 最原始的方法：\n",
    "print('Created a pen, color is red')\n",
    "print('Created a pen, color is green')\n",
    "print('Created a pen, color is blue')\n",
    "print('Created a pencil, color is red')\n",
    "print('Created a pencil, color is blue')\n",
    "\n",
    "# 封装成函数\n",
    "def create_pen(type, color):\n",
    "    print(f'Created a {type}, color is {color}')\n",
    "create_pen('pen','red')\n",
    "create_pen('pen','green')\n",
    "create_pen('pen','blue')\n",
    "\n",
    "#使用functiontools\n",
    "import functools\n",
    "\n",
    "pencil_func = functools.partial(create_pen, type = 'pencil')\n",
    "# 注意这个functiontools会按照顺序传递参数，会出现从传递多个参数的报错，除非你指定，或者你也可以改变函数定义中参数的顺序\n",
    "pencil_func(color='red')\n",
    "pencil_func(color='green')\n",
    "pencil_func(color='blue')\n",
    "\n",
    "\n",
    "# 使用类+ __call__ 方法\n",
    "class Pen_Factory(object):\n",
    "    def __init__(self, p_type):\n",
    "        self.type = p_type\n",
    "    def __call__(self, p_color):\n",
    "        print(f'Created a {self.type}, color is {p_color}')\n",
    "\n",
    "Pencil = Pen_Factory('Pencil')\n",
    "Pencil('red')\n",
    "Pencil('green')\n",
    "\n",
    "Pen = Pen_Factory('Pen')\n",
    "Pen('blue')"
   ]
  },
  {
   "cell_type": "markdown",
   "metadata": {},
   "source": [
    "#### Work like a list "
   ]
  },
  {
   "cell_type": "markdown",
   "metadata": {},
   "source": [
    "***Index***"
   ]
  },
  {
   "cell_type": "markdown",
   "metadata": {},
   "source": [
    "Function with 3 imbeded method:\n",
    "* Change/Add\n",
    "* Search\n",
    "* Delete"
   ]
  },
  {
   "cell_type": "code",
   "execution_count": 56,
   "metadata": {},
   "outputs": [
    {
     "name": "stdout",
     "output_type": "stream",
     "text": [
      "setitem name Tom\n",
      "{'cache': {'name': 'Tom'}}\n",
      "getitem name\n",
      "Tom\n",
      "{'cache': {'name': 'Tom'}}\n",
      "delitem name\n"
     ]
    }
   ],
   "source": [
    "class Person:\n",
    "    def __setitem__(self, key, value):\n",
    "        self.cache = {}\n",
    "        print('setitem', key, value)\n",
    "        self.cache[key] = value\n",
    "\n",
    "    def __getitem__(self, item):\n",
    "        print('getitem', item)\n",
    "        return self.cache[item]\n",
    "    \n",
    "    def __delitem__(self, item):\n",
    "        print('delitem', item)\n",
    "        del self.cache[item]\n",
    "    pass\n",
    "\n",
    "p = Person()\n",
    "\n",
    "# 进入了相应方法，但是并没有保存，所以需要在方法内部保存\n",
    "p['name'] = 'Tom'\n",
    "print(p.__dict__)\n",
    "print(p['name'])\n",
    "print(p.__dict__)\n",
    "del p['name']\n",
    "\n"
   ]
  },
  {
   "cell_type": "markdown",
   "metadata": {},
   "source": [
    "***Slice***  \n",
    "Inbeded methods are the same with Index"
   ]
  },
  {
   "cell_type": "code",
   "execution_count": 16,
   "metadata": {},
   "outputs": [
    {
     "name": "stdout",
     "output_type": "stream",
     "text": [
      "slice(0, 4, 2) ['a', 'b']\n",
      "0\n",
      "4\n",
      "2\n",
      "{'items': ['a', 2, 'b', 4, 5, 6, 7, 8]}\n",
      "get_item slice(0, 4, 2)\n",
      "del_item slice(0, 4, 2)\n"
     ]
    }
   ],
   "source": [
    "class Person:\n",
    "    def __init__(self) -> None:\n",
    "        self.items = [1,2,3,4,5,6,7,8]\n",
    "    def __setitem__(self, key, value):\n",
    "        print(key, value)\n",
    "        print(key.start)\n",
    "        print(key.stop)\n",
    "        print(key.step)\n",
    "        self.items[key] = value # You need to know if the list have any element\n",
    "        if isinstance(key,slice):\n",
    "            self.items[key.start:key.stop:key.step] = key \n",
    "    def __getitem__(self, item):\n",
    "        print('get_item', item)\n",
    "    \n",
    "    def __delitem__(self, item):\n",
    "        print('del_item', item)\n",
    "p = Person()\n",
    "p[0:4:2] = ['a','b']\n",
    "print(p.__dict__)\n",
    "p[0:4:2]\n",
    "del p[0:4:2]"
   ]
  },
  {
   "cell_type": "markdown",
   "metadata": {},
   "source": [
    "`Key` is a class not a list, if you ctrl-click slice, then you can look up the properties."
   ]
  },
  {
   "cell_type": "markdown",
   "metadata": {},
   "source": [
    "#### Comparison of Class\n",
    "It is reasonable to consider a `2 < 10` but actually this is a comparison in the `int` class. This mean we can use our own rules to make comparisons."
   ]
  },
  {
   "cell_type": "code",
   "execution_count": 17,
   "metadata": {},
   "outputs": [
    {
     "ename": "TypeError",
     "evalue": "'<' not supported between instances of 'A' and 'A'",
     "output_type": "error",
     "traceback": [
      "\u001b[1;31m---------------------------------------------------------------------------\u001b[0m",
      "\u001b[1;31mTypeError\u001b[0m                                 Traceback (most recent call last)",
      "Input \u001b[1;32mIn [17]\u001b[0m, in \u001b[0;36m<cell line: 6>\u001b[1;34m()\u001b[0m\n\u001b[0;32m      4\u001b[0m a1 \u001b[38;5;241m=\u001b[39m A()\n\u001b[0;32m      5\u001b[0m a2 \u001b[38;5;241m=\u001b[39m A()\n\u001b[1;32m----> 6\u001b[0m \u001b[38;5;28mprint\u001b[39m(\u001b[43ma1\u001b[49m\u001b[43m \u001b[49m\u001b[38;5;241;43m<\u001b[39;49m\u001b[43m \u001b[49m\u001b[43ma2\u001b[49m)\n",
      "\u001b[1;31mTypeError\u001b[0m: '<' not supported between instances of 'A' and 'A'"
     ]
    }
   ],
   "source": [
    "class A:\n",
    "    pass\n",
    "\n",
    "a1 = A()\n",
    "a2 = A()\n",
    "print(a1 < a2) # This is only available in `Python2`, \n",
    "# which they will compare the address of these instances"
   ]
  },
  {
   "cell_type": "markdown",
   "metadata": {},
   "source": [
    "The is 6 kinds of symbols, namely `==` `<` `>` `<=` `>=` `!=`."
   ]
  },
  {
   "cell_type": "code",
   "execution_count": 27,
   "metadata": {},
   "outputs": [
    {
     "name": "stdout",
     "output_type": "stream",
     "text": [
      "False\n"
     ]
    }
   ],
   "source": [
    "class Person:\n",
    "    # == != < > <= >=\n",
    "    def __init__(self, weight, height):\n",
    "        self.weight = weight\n",
    "        self.height = height\n",
    "    # overload operator\n",
    "    def __eq__(self, other: object) -> bool:\n",
    "        ret = None\n",
    "        if isinstance(other, Person):\n",
    "            ret = (self.weight == other.weight)\n",
    "        else:\n",
    "            ret = (self.weight == other)\n",
    "        return ret\n",
    "    def __ne__(self, __value: object) -> bool:\n",
    "        # not equal to\n",
    "        pass\n",
    "    def __gt__(self, __value: object) -> bool:\n",
    "        # greater than\n",
    "        pass\n",
    "    def __ge__(self, __value: object) -> bool:\n",
    "        # greater than or equal to\n",
    "        pass\n",
    "    def __lt__(self, __value: object) -> bool:\n",
    "        # less than\n",
    "        pass\n",
    "    def __le__(self, __value: object) -> bool:\n",
    "        # less than or equal to\n",
    "        pass\n",
    "\n",
    "\n",
    "p1 = Person(80,160)\n",
    "p2 = Person(70,180)\n",
    "print(p1 == 180)"
   ]
  },
  {
   "cell_type": "markdown",
   "metadata": {},
   "source": [
    "If you only defined helf of the function, your interpreter will reverse these two variables to do the comparison for `>`, `>=`, nonetheless `==`. For `==` & `!=` is will directly reverse the return value.  \n",
    "Be careful, you cannot superposition a `==` and a `>` to get `>=`."
   ]
  },
  {
   "cell_type": "code",
   "execution_count": 30,
   "metadata": {},
   "outputs": [
    {
     "name": "stdout",
     "output_type": "stream",
     "text": [
      "80 70\n",
      "True\n"
     ]
    }
   ],
   "source": [
    "class Person:\n",
    "    # == != < > <= >=\n",
    "    def __init__(self, weight, height):\n",
    "        self.weight = weight\n",
    "        self.height = height\n",
    "    # overload operator\n",
    "    def __eq__(self, other: object) -> bool:\n",
    "        ret = None\n",
    "        \n",
    "        if isinstance(other, Person):\n",
    "            print(self.weight, other.weight)\n",
    "            ret = (self.weight == other.weight)\n",
    "        else:\n",
    "            ret = (self.weight == other)\n",
    "        return ret\n",
    "    \n",
    "\n",
    "\n",
    "p1 = Person(80,160)\n",
    "p2 = Person(70,180)\n",
    "print(p1 != p2)"
   ]
  },
  {
   "cell_type": "markdown",
   "metadata": {},
   "source": [
    "If you are so determined to use the superposition, you can do it by using a `decorator` from `functools`."
   ]
  },
  {
   "cell_type": "code",
   "execution_count": 54,
   "metadata": {},
   "outputs": [
    {
     "name": "stdout",
     "output_type": "stream",
     "text": [
      "lt\n",
      "False\n"
     ]
    }
   ],
   "source": [
    "import functools\n",
    "\n",
    "@functools.total_ordering\n",
    "class Person:\n",
    "    # == != < > <= >=\n",
    "    def __init__(self, weight, height):\n",
    "        self.weight = weight\n",
    "        self.height = height\n",
    "    # overload operator\n",
    "    def __eq__(self, other: object) -> bool:\n",
    "        print('eq')\n",
    "        ret = None\n",
    "        if isinstance(other, Person):\n",
    "            ret = (self.weight == other.weight)\n",
    "        else:\n",
    "            ret = (self.weight == other)\n",
    "        return ret\n",
    "    def __lt__(self, other: object) -> bool:\n",
    "        print('lt')\n",
    "        return self.height < other.height\n",
    "\n",
    "p1 = Person(80,180)\n",
    "p2 = Person(70,190)\n",
    "print(p1 >= p2)"
   ]
  },
  {
   "cell_type": "markdown",
   "metadata": {},
   "source": [
    "***Bool***  \n"
   ]
  },
  {
   "cell_type": "code",
   "execution_count": 57,
   "metadata": {},
   "outputs": [
    {
     "name": "stdout",
     "output_type": "stream",
     "text": [
      "已经弱冠\n"
     ]
    }
   ],
   "source": [
    "class Person:\n",
    "    def __init__(self, age) -> None:\n",
    "        self.age = age\n",
    "    def __bool__(self) -> bool:\n",
    "        return self.age > 20\n",
    "p = Person(25)\n",
    "\n",
    "if p: \n",
    "    print('已经弱冠')"
   ]
  },
  {
   "cell_type": "markdown",
   "metadata": {},
   "source": [
    "#### Traverse\n",
    "Use iterators\n",
    "* How to use `for` loop to traverse our instances\n",
    "  * Use`__getitem__` and `constraint`\n",
    "* How to use `next` iterator to traverse\n",
    "  * `__iter__` has a higher then the first method\n",
    "    * When you use p as a iterator, it will find the `__iter__` \n",
    "  * iter() must returned a `iterator` object\n",
    "* Supplementary information"
   ]
  },
  {
   "cell_type": "code",
   "execution_count": 74,
   "metadata": {},
   "outputs": [
    {
     "name": "stdout",
     "output_type": "stream",
     "text": [
      "Iter\n",
      "Next\n",
      "2\n",
      "Next\n",
      "3\n",
      "Next\n",
      "4\n",
      "Next\n",
      "5\n",
      "Next\n",
      "6\n",
      "Next\n",
      "7\n",
      "Next\n",
      "Iter\n",
      "Next\n"
     ]
    }
   ],
   "source": [
    "class Person:\n",
    "    def __init__(self):\n",
    "        self.result = 1\n",
    "\n",
    "    # First method\n",
    "    def __getitem__(self, item):\n",
    "        self.result = self.result + 1\n",
    "        if self.result >=6:\n",
    "            raise StopIteration('Stop Ite')\n",
    "        return self.result\n",
    "\n",
    "    # Second method\n",
    "    def __iter__(self):\n",
    "        self.result = 1\n",
    "        print('Iter')\n",
    "        # return iter([1,2,3,4,5])\n",
    "        return self # Cannot be iterated, it is not a iterator\n",
    "    \n",
    "    def __next__(self):\n",
    "        print('Next')\n",
    "        if self.result <=6 :\n",
    "            self.result = self.result + 1\n",
    "        else :\n",
    "            raise StopIteration('Stop Ite')\n",
    "        return self.result\n",
    "    pass\n",
    "\n",
    "p = Person()\n",
    "\n",
    "for i in p:\n",
    "    print(i)\n",
    "# The second time, self.result is 6, you need to initialize in __iter__()\n",
    "for i in p:\n",
    "    print(i)"
   ]
  },
  {
   "cell_type": "markdown",
   "metadata": {},
   "source": [
    "When we use `for i in p`:\n",
    "1. use `iter()` to convert p to a iterator -> iter(p)\n",
    "2. when use `iter()`, it will call `__iter__()` and then `__next__()`\n",
    "3. This means `iter()` is composed of `__iter__()` and then `__next__()`\n",
    "   1. You need to realize both and initialize the object in `__iter__()` so you can use it many times\n",
    "4. You need to make a stop in `__next__()`"
   ]
  },
  {
   "cell_type": "code",
   "execution_count": 73,
   "metadata": {},
   "outputs": [
    {
     "ename": "AttributeError",
     "evalue": "module 'collections' has no attribute 'iterator'",
     "output_type": "error",
     "traceback": [
      "\u001b[1;31m---------------------------------------------------------------------------\u001b[0m",
      "\u001b[1;31mAttributeError\u001b[0m                            Traceback (most recent call last)",
      "Input \u001b[1;32mIn [73]\u001b[0m, in \u001b[0;36m<cell line: 3>\u001b[1;34m()\u001b[0m\n\u001b[0;32m      1\u001b[0m \u001b[38;5;66;03m# Check if p is a iterator\u001b[39;00m\n\u001b[0;32m      2\u001b[0m \u001b[38;5;28;01mimport\u001b[39;00m \u001b[38;5;21;01mcollections\u001b[39;00m \n\u001b[1;32m----> 3\u001b[0m \u001b[38;5;28mprint\u001b[39m(\u001b[38;5;28misinstance\u001b[39m(p, \u001b[43mcollections\u001b[49m\u001b[38;5;241;43m.\u001b[39;49m\u001b[43miterator\u001b[49m))\n",
      "\u001b[1;31mAttributeError\u001b[0m: module 'collections' has no attribute 'iterator'"
     ]
    }
   ],
   "source": [
    "# Check if p is a iterator\n",
    "import collections \n",
    "print(isinstance(p, collections.iterator))"
   ]
  },
  {
   "cell_type": "markdown",
   "metadata": {},
   "source": [
    "***`iter()`***  "
   ]
  },
  {
   "cell_type": "code",
   "execution_count": 77,
   "metadata": {},
   "outputs": [
    {
     "name": "stdout",
     "output_type": "stream",
     "text": [
      "<list_iterator object at 0x000001BD8D277D00>\n",
      "Iter\n",
      "<__main__.Person object at 0x000001BD8D277730> <__main__.Person object at 0x000001BD8D277730>\n",
      "Iter\n",
      "True\n"
     ]
    }
   ],
   "source": [
    "l = [1,2,3,4,5]\n",
    "l_i = iter(l)\n",
    "print(l_i)\n",
    "class Person:\n",
    "    def __init__(self):\n",
    "        self.result = 1\n",
    "\n",
    "    # # First method\n",
    "    # def __getitem__(self, item):\n",
    "    #     self.result = self.result + 1\n",
    "    #     if self.result >=6:\n",
    "    #         raise StopIteration('Stop Ite')\n",
    "    #     return self.result\n",
    "\n",
    "    # Second method\n",
    "    def __iter__(self):\n",
    "        self.result = 1\n",
    "        print('Iter')\n",
    "        # return iter([1,2,3,4,5])\n",
    "        return self # Cannot be iterated, it is not a iterator\n",
    "    \n",
    "    def __next__(self):\n",
    "        print('Next')\n",
    "        if self.result <=6 :\n",
    "            self.result = self.result + 1\n",
    "        else :\n",
    "            raise StopIteration('Stop Ite')\n",
    "        return self.result\n",
    "    pass\n",
    "\n",
    "print(iter(p),p)\n",
    "# They are the sames\n",
    "print(iter(p) is p)"
   ]
  },
  {
   "cell_type": "code",
   "execution_count": 81,
   "metadata": {},
   "outputs": [
    {
     "ename": "TypeError",
     "evalue": "iter(v, w): v must be callable",
     "output_type": "error",
     "traceback": [
      "\u001b[1;31m---------------------------------------------------------------------------\u001b[0m",
      "\u001b[1;31mTypeError\u001b[0m                                 Traceback (most recent call last)",
      "Input \u001b[1;32mIn [81]\u001b[0m, in \u001b[0;36m<cell line: 1>\u001b[1;34m()\u001b[0m\n\u001b[1;32m----> 1\u001b[0m \u001b[38;5;28;43miter\u001b[39;49m\u001b[43m(\u001b[49m\u001b[43mp\u001b[49m\u001b[43m,\u001b[49m\u001b[43m \u001b[49m\u001b[38;5;241;43m4\u001b[39;49m\u001b[43m)\u001b[49m\n",
      "\u001b[1;31mTypeError\u001b[0m: iter(v, w): v must be callable"
     ]
    }
   ],
   "source": [
    "iter(p, 4) # the second variable is the stop value\n",
    "# Now the p is not callable, you need to use __call__() to make it a callable function"
   ]
  },
  {
   "cell_type": "markdown",
   "metadata": {},
   "source": [
    "### Descriptor\n"
   ]
  },
  {
   "cell_type": "markdown",
   "metadata": {},
   "source": [
    "This is a object specially designed for operating attributes in an instance.   \n",
    "When you want to access an attribute, it will go to the descriptor methods and return a value, this means you can filter the operation of attributes in other modules.  \n",
    "\n",
    "* Add/Change\n",
    "* Check\n",
    "* Delete\n",
    "\n",
    "Define a property:\n",
    "* @property \n",
    "  * This can be trouble some for several attributes, there could be attributes*3 methods, which is troublesome. \n",
    "* "
   ]
  },
  {
   "cell_type": "markdown",
   "metadata": {},
   "source": []
  },
  {
   "cell_type": "code",
   "execution_count": 88,
   "metadata": {},
   "outputs": [
    {
     "name": "stdout",
     "output_type": "stream",
     "text": [
      "0\n",
      "Help on class Person in module __main__:\n",
      "\n",
      "class Person(builtins.object)\n",
      " |  Methods defined here:\n",
      " |  \n",
      " |  __init__(self)\n",
      " |      Initialize self.  See help(type(self)) for accurate signature.\n",
      " |  \n",
      " |  delete_age(self)\n",
      " |  \n",
      " |  get_age(self)\n",
      " |  \n",
      " |  set_age(self, age)\n",
      " |  \n",
      " |  ----------------------------------------------------------------------\n",
      " |  Data descriptors defined here:\n",
      " |  \n",
      " |  __dict__\n",
      " |      dictionary for instance variables (if defined)\n",
      " |  \n",
      " |  __weakref__\n",
      " |      list of weak references to the object (if defined)\n",
      " |  \n",
      " |  age\n",
      " |  \n",
      " |  ----------------------------------------------------------------------\n",
      " |  Data and other attributes defined here:\n",
      " |  \n",
      " |  normal_attribute = 1\n",
      "\n"
     ]
    }
   ],
   "source": [
    "# Property method 1\n",
    "class Person:\n",
    "    normal_attribute = 1\n",
    "    def __init__(self):\n",
    "        self.__age = 10\n",
    "\n",
    "    def set_age(self, age):\n",
    "        if age < 0:\n",
    "            self.__age = 0\n",
    "        else:\n",
    "            self.__age = age\n",
    "    def get_age(self):\n",
    "        return self.__age\n",
    "    def delete_age(self):\n",
    "        del self.__age\n",
    "    age = property(get_age, set_age, delete_age)\n",
    "\n",
    "p = Person()\n",
    "p.age = -2\n",
    "print(p.age)\n",
    "\n",
    "help(Person)# age is in descriptor and not in the normal attribute list"
   ]
  },
  {
   "cell_type": "code",
   "execution_count": 89,
   "metadata": {},
   "outputs": [
    {
     "name": "stdout",
     "output_type": "stream",
     "text": [
      "set age\n",
      "Check age\n",
      "0\n"
     ]
    }
   ],
   "source": [
    "class Person:\n",
    "    normal_attribute = 1\n",
    "\n",
    "    def __init__(self):\n",
    "        self.__age = 10\n",
    "    @property\n",
    "    def age(self):\n",
    "        print(\"Check age\")\n",
    "        return self.__age\n",
    "    @age.setter\n",
    "    def age(self, age):\n",
    "        print('set age')\n",
    "        if age < 0:\n",
    "            self.__age = 0\n",
    "        else:\n",
    "            self.__age = age\n",
    "    @age.deleter\n",
    "    def delete_age(self):\n",
    "        print('delete age')\n",
    "        del self.__age\n",
    "\n",
    "p = Person()\n",
    "p.age = -2\n",
    "print(p.age)"
   ]
  }
 ],
 "metadata": {
  "kernelspec": {
   "display_name": "Python 3",
   "language": "python",
   "name": "python3"
  },
  "language_info": {
   "codemirror_mode": {
    "name": "ipython",
    "version": 3
   },
   "file_extension": ".py",
   "mimetype": "text/x-python",
   "name": "python",
   "nbconvert_exporter": "python",
   "pygments_lexer": "ipython3",
   "version": "3.10.6"
  }
 },
 "nbformat": 4,
 "nbformat_minor": 2
}
