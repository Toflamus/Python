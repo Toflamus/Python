{
 "cells": [
  {
   "cell_type": "markdown",
   "metadata": {},
   "source": [
    "# Comprehensive Basic Example"
   ]
  },
  {
   "cell_type": "markdown",
   "metadata": {},
   "source": [
    "This is an example of 1-5 lecture notes: Relize a calculator"
   ]
  },
  {
   "cell_type": "markdown",
   "metadata": {},
   "source": [
    "***Procedural Programming***"
   ]
  },
  {
   "cell_type": "code",
   "execution_count": null,
   "metadata": {},
   "outputs": [],
   "source": [
    "# (2+6-4)*5\n",
    "\n",
    "def add(n1,n2):\n",
    "    return n1 + n2\n",
    "def minus(n1,n2):\n",
    "    return n1 - n2\n",
    "def plus(n1,n2):\n",
    "    return n1*n2"
   ]
  },
  {
   "cell_type": "markdown",
   "metadata": {},
   "source": [
    "What if I do not wnat to save the intermediate results: \n",
    "1. Global result!"
   ]
  },
  {
   "cell_type": "code",
   "execution_count": 3,
   "metadata": {},
   "outputs": [
    {
     "name": "stdout",
     "output_type": "stream",
     "text": [
      "20\n"
     ]
    }
   ],
   "source": [
    "result = 0\n",
    "\n",
    "def set(n1):\n",
    "    global result\n",
    "    result = n1\n",
    "\n",
    "def add(n1):\n",
    "    global result\n",
    "    result += n1\n",
    "\n",
    "def minus(n1):\n",
    "    global result\n",
    "    result -= n1\n",
    "\n",
    "def plus(n1):\n",
    "    global result\n",
    "    result *= n1\n",
    "\n",
    "set(2)\n",
    "add(6)\n",
    "minus(4)\n",
    "plus(5)\n",
    "print(result)"
   ]
  },
  {
   "cell_type": "markdown",
   "metadata": {},
   "source": [
    "***Object-oriented programming***"
   ]
  },
  {
   "cell_type": "code",
   "execution_count": 6,
   "metadata": {},
   "outputs": [
    {
     "name": "stdout",
     "output_type": "stream",
     "text": [
      "20\n"
     ]
    }
   ],
   "source": [
    "class Calculator:\n",
    "    __retult = 0\n",
    "    # calculate\n",
    "    @classmethod\n",
    "    def set(cls,n1):\n",
    "        cls.__result = n1\n",
    "    @classmethod\n",
    "    def add(cls,n1):\n",
    "        cls.__result += n1\n",
    "    @classmethod\n",
    "    def minus(cls,n1):\n",
    "       cls.__result -= n1\n",
    "    @classmethod\n",
    "    def plus(cls,n1):\n",
    "        cls.__result *= n1\n",
    "    # Access\n",
    "    @classmethod\n",
    "    def show(cls):\n",
    "        print(cls.__result)\n",
    "\n",
    "Calculator.set(2)\n",
    "Calculator.add(6)\n",
    "Calculator.minus(4)\n",
    "Calculator.plus(5)\n",
    "Calculator.show()"
   ]
  },
  {
   "cell_type": "markdown",
   "metadata": {},
   "source": [
    "But you cannot simultaneously calculate different results. \n",
    "* Change class variable to an instance varibale\n",
    "* You need to do something to realise fault tolerance"
   ]
  },
  {
   "cell_type": "code",
   "execution_count": 13,
   "metadata": {},
   "outputs": [
    {
     "name": "stdout",
     "output_type": "stream",
     "text": [
      "20\n"
     ]
    }
   ],
   "source": [
    "class Calculator:\n",
    "    def check_number(self,n1):\n",
    "        if not isinstance(n1, int):\n",
    "            raise TypeError(f'{n1} variable is not a integer')\n",
    "        return isinstance(n1, int)\n",
    "\n",
    "    def __init__(self,n1) -> None:\n",
    "        \n",
    "        self.__result= n1\n",
    "    # calculate\n",
    "    def add(self,n1):\n",
    "        self.check_number(n1)\n",
    "        self.__result += n1\n",
    "    def minus(self,n1):\n",
    "        self.check_number(n1)\n",
    "        self.__result -= n1\n",
    "    def plus(self,n1):\n",
    "        self.check_number(n1)\n",
    "        self.__result *= n1\n",
    "    # Access\n",
    "    def show(self):\n",
    "        print(self.__result)\n",
    "\n",
    "c = Calculator(2)\n",
    "c.add(6)\n",
    "c.minus(4)\n",
    "c.plus(5)\n",
    "c.show()"
   ]
  },
  {
   "cell_type": "markdown",
   "metadata": {},
   "source": [
    "But you make your code not so easy to maintain, if you need to add every function a `check_number` function. \n",
    "* Decorators, the decorator sometimes have no use outside. Just make it a private method"
   ]
  },
  {
   "cell_type": "code",
   "execution_count": 18,
   "metadata": {},
   "outputs": [
    {
     "name": "stdout",
     "output_type": "stream",
     "text": [
      "20\n"
     ]
    }
   ],
   "source": [
    "class Calculator:\n",
    "    @staticmethod\n",
    "    def __check_number_decorator(func):\n",
    "        def re_construct(self, n1):\n",
    "            if not isinstance(n1, int):\n",
    "                raise TypeError(f'{n1} variable is not a integer')\n",
    "            return func(self,n1)\n",
    "        return re_construct\n",
    "\n",
    "    @__check_number_decorator\n",
    "    \n",
    "    def __init__(self,n1) -> None:\n",
    "        \n",
    "        self.__result= n1\n",
    "    # calculate\n",
    "    @__check_number_decorator\n",
    "    def add(self,n1):\n",
    "        \n",
    "        self.__result += n1\n",
    "\n",
    "    @__check_number_decorator\n",
    "    def minus(self,n1):\n",
    "        \n",
    "        self.__result -= n1\n",
    "\n",
    "    @__check_number_decorator\n",
    "    def plus(self,n1):\n",
    "        \n",
    "        self.__result *= n1\n",
    "    # Access\n",
    "    def show(self):\n",
    "        print(self.__result)\n",
    "\n",
    "c = Calculator(2)\n",
    "c.add(6)\n",
    "c.minus(4)\n",
    "c.plus(5)\n",
    "c.show()"
   ]
  },
  {
   "cell_type": "markdown",
   "metadata": {},
   "source": [
    "What should we do if we want to add a function. For example, how to give feedback what we input when a user input something.  \n",
    "\n",
    "We can use another decorator to the function.  \n",
    "\n",
    "\n",
    "Nested decoration is needed.  \n",
    "* What is the order?\n",
    "* What if we want to add a specific decorator to every function-> A function that can create decorators\n"
   ]
  },
  {
   "cell_type": "code",
   "execution_count": 47,
   "metadata": {},
   "outputs": [
    {
     "name": "stdout",
     "output_type": "stream",
     "text": [
      "2\n",
      "加6\n",
      "减4\n",
      "乘以5\n",
      "20\n"
     ]
    }
   ],
   "source": [
    "import win32com.client\n",
    "\n",
    "# # Create a Announcer object\n",
    "# announcer = win32com.client.Dispatch('SAPI.SpVoice')\n",
    "# # Use Speak method to speak a string\n",
    "# announcer.Speak('Can you speak chinese 哈哈哈 6')\n",
    "\n",
    "class Calculator:\n",
    "    def __check_number_decorator(func):\n",
    "        def re_construct(self, n1):\n",
    "            if not isinstance(n1, int):\n",
    "                raise TypeError(f'{n1} variable is not a integer')\n",
    "            return func(self,n1)\n",
    "        return re_construct\n",
    "    \n",
    "    \n",
    "    def __announcer(self, words):\n",
    "        # announcer = win32com.client.Dispatch('SAPI.SpVoice')\n",
    "        # # Use Speak method to speak a string\n",
    "        # announcer.Speak(words)\n",
    "        print(words)\n",
    "        \n",
    "        \n",
    "    def __create_decorator(word = ''):\n",
    "        def __announcer_decorator(func):\n",
    "            def re_construct(self, n1):\n",
    "                # Create a Announcer object\n",
    "                string = word + str(n1)\n",
    "                self.__announcer(string)\n",
    "                return func(self, n1)\n",
    "            return re_construct\n",
    "        return __announcer_decorator\n",
    "\n",
    "    @__check_number_decorator\n",
    "    @__create_decorator('')\n",
    "    def __init__(self, n1) -> None:\n",
    "        self.__result = n1\n",
    "        \n",
    "\n",
    "    # calculate\n",
    "    @__check_number_decorator\n",
    "    @__create_decorator('加')\n",
    "    def add(self,n1):\n",
    "        self.__result += n1\n",
    "        \n",
    "\n",
    "    @__check_number_decorator\n",
    "    @__create_decorator('减')\n",
    "    def minus(self,n1):\n",
    "        \n",
    "        self.__result -= n1\n",
    "        \n",
    "\n",
    "    @__check_number_decorator\n",
    "    @__create_decorator('乘以')\n",
    "    def plus(self,n1):\n",
    "        self.__result *= n1\n",
    "        \n",
    "\n",
    "    \n",
    "    # Access\n",
    "    def show(self):\n",
    "        string = '计算结果等于' + str(self.__result)\n",
    "        self.__announcer(string)\n",
    "        print(self.__result)\n",
    "\n",
    "    @property\n",
    "    def result(self):\n",
    "        return self.__result\n",
    "\n",
    "\n",
    "c = Calculator(2)\n",
    "c.add(6)\n",
    "c.minus(4)\n",
    "c.plus(5)\n",
    "# c.show()\n",
    "print(c.result)"
   ]
  },
  {
   "cell_type": "markdown",
   "metadata": {},
   "source": [
    "I do not want to write c1 every time I use the function. \n",
    "* Add a return function,`return self` chain programming链式编程"
   ]
  },
  {
   "cell_type": "code",
   "execution_count": 59,
   "metadata": {},
   "outputs": [
    {
     "name": "stdout",
     "output_type": "stream",
     "text": [
      "2\n",
      "加6\n",
      "减4\n",
      "乘以5\n",
      "20\n"
     ]
    }
   ],
   "source": [
    "import win32com.client\n",
    "\n",
    "# # Create a Announcer object\n",
    "# announcer = win32com.client.Dispatch('SAPI.SpVoice')\n",
    "# # Use Speak method to speak a string\n",
    "# announcer.Speak('Can you speak chinese 哈哈哈 6')\n",
    "\n",
    "class Calculator:\n",
    "    def __check_number_decorator(func):\n",
    "        def re_construct(self, n1):\n",
    "            if not isinstance(n1, int):\n",
    "                raise TypeError(f'{n1} variable is not a integer')\n",
    "            return func(self,n1)\n",
    "        return re_construct\n",
    "    \n",
    "    \n",
    "    def __announcer(self, words):\n",
    "        # announcer = win32com.client.Dispatch('SAPI.SpVoice')\n",
    "        # # Use Speak method to speak a string\n",
    "        # announcer.Speak(words)\n",
    "        print(words)\n",
    "        \n",
    "        \n",
    "    def __create_decorator(word = ''):\n",
    "        def __announcer_decorator(func):\n",
    "            def re_construct(self, n1):\n",
    "                # Create a Announcer object\n",
    "                string = word + str(n1)\n",
    "                self.__announcer(string)\n",
    "                return func(self, n1)\n",
    "            return re_construct\n",
    "        return __announcer_decorator\n",
    "\n",
    "    @__check_number_decorator\n",
    "    @__create_decorator('')\n",
    "    def __init__(self, n1) -> None:\n",
    "        self.__result = n1\n",
    "        \n",
    "    # calculate\n",
    "    @__check_number_decorator\n",
    "    @__create_decorator('加')\n",
    "    def add(self,n1):\n",
    "        self.__result += n1\n",
    "        return self\n",
    "\n",
    "    @__check_number_decorator\n",
    "    @__create_decorator('减')\n",
    "    def minus(self,n1):\n",
    "        \n",
    "        self.__result -= n1\n",
    "        return self\n",
    "\n",
    "    @__check_number_decorator\n",
    "    @__create_decorator('乘以')\n",
    "    def plus(self,n1):\n",
    "        self.__result *= n1\n",
    "        return self\n",
    "    \n",
    "    # Access\n",
    "    def show(self):\n",
    "        string = '计算结果等于' + str(self.__result)\n",
    "        self.__announcer(string)\n",
    "        print(self.__result)\n",
    "\n",
    "    @property\n",
    "    def result(self):\n",
    "        return self.__result\n",
    "\n",
    "c = Calculator(2)\n",
    "c.add(6).minus(4).plus(5)\n",
    "# c.show()\n",
    "print(c.result)"
   ]
  }
 ],
 "metadata": {
  "kernelspec": {
   "display_name": "Python 3",
   "language": "python",
   "name": "python3"
  },
  "language_info": {
   "codemirror_mode": {
    "name": "ipython",
    "version": 3
   },
   "file_extension": ".py",
   "mimetype": "text/x-python",
   "name": "python",
   "nbconvert_exporter": "python",
   "pygments_lexer": "ipython3",
   "version": "3.10.6"
  }
 },
 "nbformat": 4,
 "nbformat_minor": 2
}
