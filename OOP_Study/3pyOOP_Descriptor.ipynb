{
 "cells": [
  {
   "cell_type": "markdown",
   "metadata": {},
   "source": [
    "### Descriptor\n"
   ]
  },
  {
   "cell_type": "markdown",
   "metadata": {},
   "source": [
    "This is a object specially designed for operating attributes in an instance.   \n",
    "When you want to access an attribute, it will go to the descriptor methods and return a value, this means you can filter the operation of attributes in other modules.  \n",
    "\n",
    "* Add/Change\n",
    "* Check\n",
    "* Delete\n",
    "\n",
    "Define a property:\n",
    "* @property \n",
    "  * This can be trouble some for several attributes, there could be attributes*3 methods, which is troublesome. \n",
    "* "
   ]
  },
  {
   "cell_type": "code",
   "execution_count": 1,
   "metadata": {},
   "outputs": [
    {
     "name": "stdout",
     "output_type": "stream",
     "text": [
      "0\n",
      "Help on class Person in module __main__:\n",
      "\n",
      "class Person(builtins.object)\n",
      " |  Methods defined here:\n",
      " |  \n",
      " |  __init__(self)\n",
      " |      Initialize self.  See help(type(self)) for accurate signature.\n",
      " |  \n",
      " |  delete_age(self)\n",
      " |  \n",
      " |  get_age(self)\n",
      " |  \n",
      " |  set_age(self, age)\n",
      " |  \n",
      " |  ----------------------------------------------------------------------\n",
      " |  Data descriptors defined here:\n",
      " |  \n",
      " |  __dict__\n",
      " |      dictionary for instance variables (if defined)\n",
      " |  \n",
      " |  __weakref__\n",
      " |      list of weak references to the object (if defined)\n",
      " |  \n",
      " |  age\n",
      " |  \n",
      " |  ----------------------------------------------------------------------\n",
      " |  Data and other attributes defined here:\n",
      " |  \n",
      " |  normal_attribute = 1\n",
      "\n"
     ]
    }
   ],
   "source": [
    "# Property method 1\n",
    "class Person:\n",
    "    normal_attribute = 1\n",
    "    def __init__(self):\n",
    "        self.__age = 10\n",
    "\n",
    "    def set_age(self, age):\n",
    "        if age < 0:\n",
    "            self.__age = 0\n",
    "        else:\n",
    "            self.__age = age\n",
    "    def get_age(self):\n",
    "        return self.__age\n",
    "    def delete_age(self):\n",
    "        del self.__age\n",
    "    age = property(get_age, set_age, delete_age)\n",
    "\n",
    "p = Person()\n",
    "p.age = -2\n",
    "print(p.age)\n",
    "\n",
    "help(Person)# age is in descriptor and not in the normal attribute list"
   ]
  },
  {
   "cell_type": "code",
   "execution_count": 2,
   "metadata": {},
   "outputs": [
    {
     "name": "stdout",
     "output_type": "stream",
     "text": [
      "set age\n",
      "Check age\n",
      "0\n"
     ]
    }
   ],
   "source": [
    "class Person:\n",
    "    normal_attribute = 1\n",
    "\n",
    "    def __init__(self):\n",
    "        self.__age = 10\n",
    "    @property\n",
    "    def age(self):\n",
    "        print(\"Check age\")\n",
    "        return self.__age\n",
    "    @age.setter\n",
    "    def age(self, age):\n",
    "        print('set age')\n",
    "        if age < 0:\n",
    "            self.__age = 0\n",
    "        else:\n",
    "            self.__age = age\n",
    "    @age.deleter\n",
    "    def delete_age(self):\n",
    "        print('delete age')\n",
    "        del self.__age\n",
    "\n",
    "p = Person()\n",
    "p.age = -2\n",
    "print(p.age)"
   ]
  },
  {
   "cell_type": "markdown",
   "metadata": {},
   "source": [
    "The essence of descriptor is just a another class that encapsulate the 3 method.  \n",
    "Only instance can use the descriptor, some time  \n",
    "Only applicable to New class  "
   ]
  },
  {
   "cell_type": "code",
   "execution_count": 18,
   "metadata": {},
   "outputs": [
    {
     "name": "stdout",
     "output_type": "stream",
     "text": [
      "set\n",
      "<__main__.Person object at 0x00000112C203BB20>\n",
      "get\n",
      "10\n",
      "set\n",
      "<__main__.Person object at 0x00000112C203BCA0>\n",
      "get\n",
      "11\n",
      "get\n",
      "10\n",
      "{'v': 10}\n",
      "{'v': 11}\n",
      "{'__module__': '__main__', '__get__': <function Age.__get__ at 0x00000112C3A62170>, '__set__': <function Age.__set__ at 0x00000112C3A62D40>, '__delete__': <function Age.__delete__ at 0x00000112C3A624D0>, '__dict__': <attribute '__dict__' of 'Age' objects>, '__weakref__': <attribute '__weakref__' of 'Age' objects>, '__doc__': None}\n"
     ]
    }
   ],
   "source": [
    "class Age():\n",
    "    def __get__(self,instance,owner):\n",
    "        print('get')\n",
    "        return instance.v\n",
    "    def __set__(self,instance,value):\n",
    "        print('set')\n",
    "        print(instance)\n",
    "        instance.v = value\n",
    "        \n",
    "        return instance.v\n",
    "    def __delete__(self,instance):\n",
    "        print('delete')\n",
    "\n",
    "class Person:\n",
    "    age = Age()\n",
    "    # if you substitute the embeded method\n",
    "    # def __getattribute__(self,instance):\n",
    "    #     print('xxx')\n",
    "\n",
    "p = Person()\n",
    "p1 = Person()\n",
    "\n",
    "p.age = 10\n",
    "print(p.age)\n",
    "\n",
    "p1.age = 11\n",
    "print(p1.age)\n",
    "print(p.age)\n",
    "\n",
    "print(p.__dict__)\n",
    "print(p1.__dict__)\n",
    "print(Age.__dict__)\n",
    "# print(Person.age)\n",
    "# Person.age = 19\n",
    "# del Person.age\n",
    "\n"
   ]
  },
  {
   "cell_type": "markdown",
   "metadata": {},
   "source": [
    "There is a problem why it embeded the descriptor into the searching mechanism  \n",
    "\n",
    "The normal searching order  \n",
    "    1. the dict of the instance   \n",
    "    2. the dict of the corresponding class  \n",
    "    3. the dict of the father class if applicable   \n",
    "    4. if still not found, but __getattr__ is defined, then call __getattr__   \n",
    " "
   ]
  },
  {
   "cell_type": "markdown",
   "metadata": {},
   "source": [
    "Data descriptor and non-data descriptor\n",
    "* Def\n",
    "  * Data descriptor: defined the set and get method\n",
    "  * non Data descriptor: only defined get method\n",
    "* Order data descriptor> instance attributes > non data descriptor  \n",
    "\n",
    "***Descriptor: Data storage***  \n",
    "The p.age is in Person or Age? "
   ]
  },
  {
   "cell_type": "markdown",
   "metadata": {},
   "source": [
    "#### Decorator by class\n",
    "\n",
    "Keep original function do not change and add some new functionalities"
   ]
  },
  {
   "cell_type": "markdown",
   "metadata": {},
   "source": [
    "***Original decorator***"
   ]
  },
  {
   "cell_type": "code",
   "execution_count": 3,
   "metadata": {},
   "outputs": [],
   "source": [
    "def check(func):\n",
    "    def inner():\n",
    "        print('登陆验证')\n",
    "        func()\n",
    "    return inner\n",
    "\n",
    "# syntax sugar\n",
    "@check # method 1\n",
    "def fashuoshuo():\n",
    "    print('fashuoshuo')\n",
    "\n",
    "fashuoshuo = check(fashuoshuo) # method 2\n",
    "fashuoshuo() # methods 1\n"
   ]
  },
  {
   "cell_type": "markdown",
   "metadata": {},
   "source": [
    "***Decorator by Class***  "
   ]
  },
  {
   "cell_type": "code",
   "execution_count": 5,
   "metadata": {},
   "outputs": [
    {
     "name": "stdout",
     "output_type": "stream",
     "text": [
      "Log in\n",
      "Log in\n",
      "fashuoshuo\n"
     ]
    }
   ],
   "source": [
    "from typing import Any\n",
    "\n",
    "class check:\n",
    "    def __init__(self, func) -> None:\n",
    "        self.f = func\n",
    "    def __call__(self, *args: Any, **kwds: Any) -> Any:\n",
    "        print(\"Log in\")\n",
    "        self.f()\n",
    "\n",
    "@check# method 1\n",
    "def fashuoshuo():\n",
    "    print('fashuoshuo')\n",
    "\n",
    "fashuoshuo = check(fashuoshuo) # method 2\n",
    "fashuoshuo() # method 1"
   ]
  }
 ],
 "metadata": {
  "kernelspec": {
   "display_name": "Python 3",
   "language": "python",
   "name": "python3"
  },
  "language_info": {
   "codemirror_mode": {
    "name": "ipython",
    "version": 3
   },
   "file_extension": ".py",
   "mimetype": "text/x-python",
   "name": "python",
   "nbconvert_exporter": "python",
   "pygments_lexer": "ipython3",
   "version": "3.10.6"
  }
 },
 "nbformat": 4,
 "nbformat_minor": 2
}
