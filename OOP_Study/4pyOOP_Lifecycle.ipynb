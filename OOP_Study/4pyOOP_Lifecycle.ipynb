{
 "cells": [
  {
   "cell_type": "markdown",
   "metadata": {},
   "source": [
    "# Lifecycle"
   ]
  },
  {
   "cell_type": "markdown",
   "metadata": {},
   "source": [
    "## Definitions\n",
    "\n",
    "It refers to the lifecycle of an object(from birth to death). The life of an object refers to the RAM management."
   ]
  },
  {
   "cell_type": "markdown",
   "metadata": {},
   "source": [
    "## Lifecycle Monitoring"
   ]
  },
  {
   "cell_type": "markdown",
   "metadata": {},
   "source": [
    "* `__new__`\n",
    "  * When we create a new object, this method will allocate resources for the object.\n",
    "  * By Interception of the method, we can control the lifecycle of the object.  \n",
    "* `__init__`\n",
    "  * ...\n",
    "* `__del__`\n",
    "  * This function will be called automatically when the object is released"
   ]
  },
  {
   "cell_type": "code",
   "execution_count": 7,
   "metadata": {},
   "outputs": [
    {
     "name": "stdout",
     "output_type": "stream",
     "text": [
      "Initializing the object\n",
      "I haven't Deleting the object\n",
      "<__main__.Person object at 0x000001DB04414CD0>\n",
      "<__main__.Person object at 0x000001DB04414CD0>\n",
      "I haven't deleting the object\n"
     ]
    }
   ],
   "source": [
    "class Person:\n",
    "    # def __new__(cls, *args,**kwargs):\n",
    "    #     print('Your operation of creating a new object is intercepted')\n",
    "    #     # TODO: You should create the object below\n",
    "    \n",
    "    def __init__(self, *args, **kwargs):\n",
    "        print(\"Initializing the object\")\n",
    "        self.name  = 'lol'\n",
    "    \n",
    "    # This function will be called automatically when the object is released\n",
    "    def __del__(self):\n",
    "        print(\"I haven't deleting the object\")\n",
    "    pass\n",
    "\n",
    "p = Person()\n",
    "print(p)\n",
    "print(p)\n",
    "del p # __del__ will also be called when we delete the object\n"
   ]
  },
  {
   "cell_type": "markdown",
   "metadata": {},
   "source": [
    "***Example:***  How to monitor the lifecycles of a instance.  \n",
    "When instance created, add one to the counter and minus when instance deleted"
   ]
  },
  {
   "cell_type": "code",
   "execution_count": 47,
   "metadata": {},
   "outputs": [
    {
     "name": "stdout",
     "output_type": "stream",
     "text": [
      "Counter + 1\n",
      "Counter + 1\n",
      "Counter - 1 \n",
      "Person Counter =  2\n",
      "<__main__.Person object at 0x000001DB05517A90>\n",
      "Person Counter =  2\n",
      "Counter - 1 \n",
      "Person Counter =  1\n"
     ]
    }
   ],
   "source": [
    "\n",
    "class Person(object):\n",
    "    __Counter_Person = 0\n",
    "    def __init__(self, *args, **kwargs):\n",
    "        print(\"Counter + 1\")\n",
    "        # Counter_Person += 1\n",
    "        Person.__Counter_Person += 1\n",
    "\n",
    "    def __del__(self):\n",
    "        print('Counter - 1 ')\n",
    "        self.__class__.__Counter_Person -= 1\n",
    "\n",
    "    @classmethod\n",
    "    def log(cls):\n",
    "        print('Person Counter = ',cls.__Counter_Person)\n",
    "    pass\n",
    "    # @staticmethod\n",
    "    # def log():\n",
    "    #     print('Person Counter = ',Person.__Counter_Person)\n",
    "    # pass\n",
    "\n",
    "p3 = Person()\n",
    "p4 = Person()\n",
    "# print(Counter_Person)\n",
    "Person.log()\n",
    "print(p3)\n",
    "Person.log()\n",
    "del p3\n",
    "# del p4\n",
    "Person.log()\n"
   ]
  },
  {
   "cell_type": "markdown",
   "metadata": {},
   "source": [
    "##### Note: Sometimes you will identify:"
   ]
  },
  {
   "cell_type": "markdown",
   "metadata": {},
   "source": [
    "\n",
    "```python\n",
    "    p3 = Person()\n",
    "    p4 = Person()\n",
    "    # print(Counter_Person)\n",
    "    Person.log()\n",
    "    print(p3)\n",
    "    Person.log()\n",
    "    del p3\n",
    "    # del p4\n",
    "    Person.log()\n",
    "```\n",
    "The output\n",
    "\n",
    "```text\n",
    "    Counter + 1\n",
    "    Counter + 1\n",
    "    Counter - 1 \n",
    "    # This is because it will delete the last p4 in the next run. \n",
    "    # This will not happen in the first run\n",
    "    Person Counter =  2\n",
    "    <__main__.Person object at 0x000001DB05517A90>\n",
    "    Person Counter =  2\n",
    "    Counter - 1 \n",
    "    Person Counter =  1\n",
    "```\n"
   ]
  },
  {
   "cell_type": "markdown",
   "metadata": {},
   "source": [
    "## Storage Management"
   ]
  },
  {
   "cell_type": "markdown",
   "metadata": {},
   "source": [
    "### Storage\n",
    "1. Everything in Python is an object. No elementry data type.\n",
    "2. Every object will be allocated a space in the ram.\n",
    "   1. Dynamic\n",
    "   2. Will return the address to outside('quote')\n",
    "      * `id()`: by decimal\n",
    "      * `hex()`: by hexadecimal\n",
    "3. Small number and string like 1,2,3,4. This will be the same place in ram\n",
    "4. For Container objects, this will be a quote, but not the object itself."
   ]
  },
  {
   "cell_type": "code",
   "execution_count": 50,
   "metadata": {},
   "outputs": [
    {
     "name": "stdout",
     "output_type": "stream",
     "text": [
      "True\n"
     ]
    }
   ],
   "source": [
    "# 3\n",
    "number1 = 2\n",
    "number2 = 2\n",
    "print(id(number1) == id(number2))"
   ]
  },
  {
   "cell_type": "markdown",
   "metadata": {},
   "source": [
    "##### Note: Container objects\n",
    "An object that can refer other objects"
   ]
  },
  {
   "cell_type": "markdown",
   "metadata": {},
   "source": [
    "Container objects\" typically refer to data structures used in programming and computer science for storing and organizing data. Different programming languages provide various types of container objects. Here are some common container objects:\n",
    "\n",
    "* Array: An ordered collection of elements accessed by index.  \n",
    "* List: Similar to an array but dynamically resizable, often providing more operations and features.  \n",
    "* Set: An unordered collection of unique elements.  \n",
    "* Dictionary (or Map): Stores key-value pairs, allowing access to values through keys.  \n",
    "* Queue: A data structure that follows the First-In-First-Out (FIFO) principle.  \n",
    "* Stack: A data structure that follows the Last-In-First-Out (LIFO) principle.  \n",
    "* Tuple: An ordered, immutable data structure.  \n",
    "* Linked List: A data structure consisting of nodes, each containing data and a reference to the next node.  \n",
    "* Heap: Used for priority queue implementations, often employed in heap sort.  \n",
    "* Tree: A hierarchical data structure with a root node, child nodes, and leaf nodes, representing hierarchical relationships.  "
   ]
  },
  {
   "cell_type": "markdown",
   "metadata": {},
   "source": [
    "### Cache management\n"
   ]
  },
  {
   "cell_type": "markdown",
   "metadata": {},
   "source": [
    "1. Reference counter\n",
    "   * An object will remember its reference number\n",
    "   * Whwn to +1 and -1\n",
    "   * What is the problem: circular references\n",
    "2. Garbage collection\n",
    "   * Find the circular reference and del all the object\n",
    "   * How to find\n",
    "   * How to improeve its functionality\n",
    "3. Access reference counter\n",
    "   * import sys\n",
    "   * .getrefcount() "
   ]
  },
  {
   "cell_type": "markdown",
   "metadata": {},
   "source": [
    "#### Reference counter"
   ]
  },
  {
   "cell_type": "markdown",
   "metadata": {},
   "source": [
    "Reference counter\n",
    "   * An object will remember its reference number\n",
    "   * +1\n",
    "     * Be created\n",
    "     * Be refered\n",
    "     * Be sent into a function\n",
    "     * Be an element and stored in a container object \n",
    "   * -1\n",
    "     * del p1\n",
    "     * p1 = 123 (p1 is assigned to another object)\n",
    "     * An object leaves its domain(A function finishes)\n",
    "     * An object leaves its container"
   ]
  },
  {
   "cell_type": "code",
   "execution_count": 60,
   "metadata": {},
   "outputs": [
    {
     "name": "stdout",
     "output_type": "stream",
     "text": [
      "2\n",
      "3\n",
      "True\n",
      "2\n"
     ]
    }
   ],
   "source": [
    "import sys\n",
    "class Person:\n",
    "    pass\n",
    "\n",
    "\n",
    "p1 = Person()\n",
    "print(sys.getrefcount(p1)) \n",
    "# When you put it in the function it will +1. \n",
    "# When the function finishes opeartion it will -1\n",
    "# So the value printed out will be 1 larger\n",
    "p2 = p1 # Assignment operation(赋值操作)\n",
    "print(sys.getrefcount(p1))\n",
    "print(p1==p2) # They are the same\n",
    "del p2 \n",
    "print(sys.getrefcount(p1))\n",
    "del p1\n",
    "# print(sys.getrefcount(p1))\n"
   ]
  },
  {
   "cell_type": "markdown",
   "metadata": {},
   "source": [
    "##### A problem: Circular reference"
   ]
  },
  {
   "cell_type": "markdown",
   "metadata": {},
   "source": [
    "When 2 object refer each other but you cut off all the outer reference. It will not be released which will cause the ram overflow."
   ]
  },
  {
   "cell_type": "code",
   "execution_count": 103,
   "metadata": {},
   "outputs": [
    {
     "name": "stdout",
     "output_type": "stream",
     "text": [
      "3\n",
      "2\n",
      "3\n",
      "2\n"
     ]
    }
   ],
   "source": [
    "import objgraph\n",
    "\n",
    "class Person:\n",
    "    pass\n",
    "\n",
    "class Dog:\n",
    "    pass\n",
    "\n",
    "p = Person()\n",
    "d = Dog()\n",
    "print(objgraph.count('Person'))\n",
    "print(objgraph.count('Dog'))\n",
    "\n",
    "p.pet = d\n",
    "d.master = p\n",
    "\n",
    "del p\n",
    "del d\n",
    "\n",
    "print(objgraph.count('Person'))\n",
    "print(objgraph.count('Dog'))"
   ]
  },
  {
   "cell_type": "markdown",
   "metadata": {},
   "source": [
    "Garbage collection will be done like 30 times for 0 generation"
   ]
  },
  {
   "cell_type": "markdown",
   "metadata": {},
   "source": [
    "#### Grabage collection"
   ]
  },
  {
   "cell_type": "markdown",
   "metadata": {},
   "source": [
    "##### How to find the circular reference? Specially for container objects"
   ]
  },
  {
   "cell_type": "markdown",
   "metadata": {},
   "source": [
    "1. Collect all the container objects and use a doubly linked list(双向链表) to refer\n",
    "2. For every container object, by `gc_refs` to count reference number\n",
    "3. For every container object A, find the container object B that A point to and then count(B) -1\n",
    "4. When A = 0, recycle. "
   ]
  },
  {
   "cell_type": "markdown",
   "metadata": {},
   "source": [
    "##### Note Doubly linked list"
   ]
  },
  {
   "cell_type": "markdown",
   "metadata": {},
   "source": [
    "The term for \"双向链表\" in English is \"doubly linked list.\" In a doubly linked list, each node contains two pointers: one pointing to the previous node (predecessor) and another pointing to the next node (successor). This structure allows for bidirectional traversal at any node in the linked list. Compared to a singly linked list, it provides more flexibility but requires additional space to store the extra pointers."
   ]
  },
  {
   "cell_type": "markdown",
   "metadata": {},
   "source": [
    "##### Problem: energy consumption. \n",
    "You need to check a lot of things."
   ]
  },
  {
   "cell_type": "markdown",
   "metadata": {},
   "source": [
    "***Assumption:***  \n",
    "* The bigger object, the longer it will exist.\n",
    "* The more time it was checked, the longer it will exist.  \n",
    "\n",
    "***Generational garbage collection(分代回收)***  \n",
    "天上一天地下一年  \n",
    "1. Creation: 0 generation\n",
    "2. Exist after one scan -> +1 generation\n",
    "3. Their frequency is different \n",
    "\n",
    "import gc\n",
    "gc.get_thershold()\n",
    "gc.set_thershold()"
   ]
  },
  {
   "cell_type": "code",
   "execution_count": 105,
   "metadata": {},
   "outputs": [
    {
     "data": {
      "text/plain": [
       "(700, 10, 10)"
      ]
     },
     "execution_count": 105,
     "metadata": {},
     "output_type": "execute_result"
    }
   ],
   "source": [
    "import gc\n",
    "gc.get_threshold()"
   ]
  },
  {
   "cell_type": "markdown",
   "metadata": {},
   "source": [
    "* 700: Garbage collection will start, when Number of Created object - Number of released objects = 700  \n",
    "* 10: After 10 times of 0 th, 0&1 generations will be scanned together  \n",
    "* 10: After 10 times of 1 th, 1&2 generations will be scanned together  \n",
    "\n",
    "We can set those numbers larger to improve performance."
   ]
  },
  {
   "cell_type": "markdown",
   "metadata": {},
   "source": [
    "##### When to collect: frequency and start conditions"
   ]
  },
  {
   "cell_type": "markdown",
   "metadata": {},
   "source": [
    "1. Automatic\n",
    "   * Start\n",
    "     * `gc.enable()`\n",
    "     * `gc.disable()`\n",
    "     * `gc.get_thershold()`\n",
    "2. Manual\n",
    "   * "
   ]
  },
  {
   "cell_type": "code",
   "execution_count": 107,
   "metadata": {},
   "outputs": [
    {
     "name": "stdout",
     "output_type": "stream",
     "text": [
      "True\n",
      "<built-in function isenabled>\n",
      "None\n"
     ]
    }
   ],
   "source": [
    "# Automatic\n",
    "import gc\n",
    "\n",
    "print(gc.isenabled())\n",
    "gc.disable()\n",
    "print(gc.isenabled)\n",
    "print(gc.enable())\n"
   ]
  },
  {
   "cell_type": "code",
   "execution_count": 140,
   "metadata": {},
   "outputs": [
    {
     "name": "stdout",
     "output_type": "stream",
     "text": [
      "1\n"
     ]
    }
   ],
   "source": [
    "# Manual\n",
    "\n",
    "import gc\n",
    "import objgraph\n",
    "\n",
    "class Person:\n",
    "    pass\n",
    "\n",
    "class Dog:\n",
    "    pass\n",
    "\n",
    "p = Person()\n",
    "d = Dog()\n",
    "\n",
    "p.pet = d\n",
    "d.master = p\n",
    "\n",
    "del p\n",
    "del d\n",
    "# We need to clear the stuff manualy\n",
    "gc.collect(0)\n",
    "# 0: only 0 th generation \n",
    "# 1: 0 & 1\n",
    "# 2: 0 & 1 & 2\n",
    "print(objgraph.count('Person'))\n",
    "    "
   ]
  },
  {
   "cell_type": "markdown",
   "metadata": {},
   "source": [
    "##### How to do it in reality"
   ]
  },
  {
   "cell_type": "markdown",
   "metadata": {},
   "source": [
    "***Weak reference:***  \n",
    "In Python 2, if two containers involved in a circular reference are not released because one of them modifies the release conditions via __del__, neither of them will be released. For a cross-version solution, you can use weak references.  \n",
    "In the context of circular references and the challenges posed by the __del__ method in Python 2, it's advisable to utilize weak references. Weak references in Python provide a way to maintain references to objects without preventing them from being garbage collected. Unlike strong references, weak references do not influence the reference count of the object they point to, allowing circular references to be broken, and objects to be released when they are no longer in use.\n",
    "\n"
   ]
  },
  {
   "cell_type": "code",
   "execution_count": 155,
   "metadata": {},
   "outputs": [
    {
     "name": "stdout",
     "output_type": "stream",
     "text": [
      "2\n"
     ]
    }
   ],
   "source": [
    "import weakref\n",
    "import gc\n",
    "import objgraph\n",
    "\n",
    "class Person:\n",
    "    pass\n",
    "\n",
    "class Dog:\n",
    "    pass\n",
    "\n",
    "p = Person()\n",
    "d = Dog()\n",
    "\n",
    "p.pet = d\n",
    "# Accessing the object from the weak reference\n",
    "# And we can break the cycle\n",
    "d.master = weakref.ref(p)\n",
    "\n",
    "d1 = Dog()\n",
    "d1.master = p\n",
    "d2 = Dog()\n",
    "d2.master = p\n",
    "# What would happen if we have a lot of complicated objects connected to each other\n",
    "# p.pets = {'Dog1': weakref.ref(d1), 'Dog2': weakref.ref(d2)} # Method 1\n",
    "weakref.WeakValueDictionary({'Dog1': d1, 'Dog2': d2}) # Method 2 \n",
    "\n",
    "del p\n",
    "del d\n",
    "# We need to clear the stuff manualy\n",
    "# gc.collect(0)\n",
    "# 0: only 0 th generation \n",
    "# 1: 0 & 1\n",
    "# 2: 0 & 1 & 2\n",
    "print(objgraph.count('Person'))"
   ]
  },
  {
   "cell_type": "markdown",
   "metadata": {},
   "source": [
    "***Point it to none:***"
   ]
  },
  {
   "cell_type": "code",
   "execution_count": 148,
   "metadata": {},
   "outputs": [
    {
     "name": "stdout",
     "output_type": "stream",
     "text": [
      "1\n"
     ]
    }
   ],
   "source": [
    "class Person:\n",
    "    pass\n",
    "\n",
    "class Dog:\n",
    "    pass\n",
    "\n",
    "p = Person()\n",
    "d = Dog()\n",
    "\n",
    "p.pet = d\n",
    "# Accessing the object from the weak reference\n",
    "# And we can break the cycle\n",
    "d.master = weakref.ref(p)\n",
    "\n",
    "p.pet = None\n",
    "del p\n",
    "del d\n",
    "print(objgraph.count('Person'))"
   ]
  }
 ],
 "metadata": {
  "kernelspec": {
   "display_name": "Python 3",
   "language": "python",
   "name": "python3"
  },
  "language_info": {
   "codemirror_mode": {
    "name": "ipython",
    "version": 3
   },
   "file_extension": ".py",
   "mimetype": "text/x-python",
   "name": "python",
   "nbconvert_exporter": "python",
   "pygments_lexer": "ipython3",
   "version": "3.10.6"
  }
 },
 "nbformat": 4,
 "nbformat_minor": 2
}
